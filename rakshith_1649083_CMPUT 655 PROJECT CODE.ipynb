{
 "cells": [
  {
   "cell_type": "markdown",
   "metadata": {},
   "source": [
    "# Instructions to run the Program"
   ]
  },
  {
   "cell_type": "markdown",
   "metadata": {},
   "source": [
    "#Run block by block and the output can be observed below the respective cell."
   ]
  },
  {
   "cell_type": "code",
   "execution_count": 1,
   "metadata": {},
   "outputs": [],
   "source": [
    "import numpy as np\n",
    "import pandas as pd\n",
    "import matplotlib.pyplot as plt\n",
    "from sklearn.model_selection import train_test_split\n",
    "from sklearn.metrics import accuracy_score\n",
    "from sklearn.metrics import confusion_matrix\n",
    "from sklearn.model_selection import GridSearchCV\n",
    "from sklearn.utils import shuffle\n",
    "from sklearn import linear_model\n",
    "import seaborn as sn\n"
   ]
  },
  {
   "cell_type": "markdown",
   "metadata": {},
   "source": [
    "# Data Handling"
   ]
  },
  {
   "cell_type": "code",
   "execution_count": 2,
   "metadata": {},
   "outputs": [
    {
     "name": "stderr",
     "output_type": "stream",
     "text": [
      "C:\\Users\\rakshith\\Anaconda3\\lib\\site-packages\\ipykernel_launcher.py:2: FutureWarning: read_table is deprecated, use read_csv instead, passing sep='\\t'.\n",
      "  \n",
      "C:\\Users\\rakshith\\Anaconda3\\lib\\site-packages\\ipykernel_launcher.py:4: FutureWarning: read_table is deprecated, use read_csv instead, passing sep='\\t'.\n",
      "  after removing the cwd from sys.path.\n"
     ]
    }
   ],
   "source": [
    "\n",
    "x_train = pd.read_table('C:/Users/rakshith/Downloads/UCI/train/X_train.txt', delim_whitespace=True,header=None)\n",
    "x_test = pd.read_csv('C:/Users/rakshith/Downloads/UCI/test/x_test.txt',delim_whitespace=True,header=None)\n",
    "y_train = pd.read_table('C:/Users/rakshith/Downloads/UCI/train/y_train.txt',delim_whitespace=True,header=None)\n",
    "y_test = pd.read_csv('C:/Users/rakshith/Downloads/UCI/test/y_test.txt',delim_whitespace=True,header=None)\n",
    "\n",
    "dickey = {\"1\":\"Walking\", \"2\":\"Moving_Upstairs\",\"3\":\"Moving_Downstairs\",\"4\":\"Sitting\",\"5\":\"Standing\",\"6\":\"Laying\"}\n"
   ]
  },
  {
   "cell_type": "markdown",
   "metadata": {},
   "source": [
    "# Normalization"
   ]
  },
  {
   "cell_type": "code",
   "execution_count": 3,
   "metadata": {},
   "outputs": [],
   "source": [
    "x_train_mean = x_train.mean(axis=0)\n",
    "x_test_mean = x_test.mean(axis=0)\n",
    "x_train_sd = x_train.std(axis = 0)\n",
    "x_test_sd = x_test.std(axis = 0)\n",
    "\n",
    "x_train = (x_train - x_train_mean)/x_train_sd  \n",
    "x_test = (x_test - x_test_mean)/x_test_sd \n",
    "y_train = y_train              \n",
    "y_test = y_test               \n",
    "y = np.array(y_train).ravel() \n",
    "\n",
    "#Copying data for other models\n",
    "x_train_common = x_train\n",
    "y_train_common = y_train\n",
    "x_test_common = x_test\n",
    "y_test_common = y_test\n"
   ]
  },
  {
   "cell_type": "markdown",
   "metadata": {},
   "source": [
    "# Logisitic Regression"
   ]
  },
  {
   "cell_type": "code",
   "execution_count": 4,
   "metadata": {},
   "outputs": [
    {
     "name": "stdout",
     "output_type": "stream",
     "text": [
      "Validation Accuracy: 94.19205658324266\n",
      "Best C: 0.9\n",
      "Best Penalty: l1\n",
      "Testing Accuracy: 96.50492025788938\n",
      "\n",
      "              Laying  Sitting  Standing  Walking  Walk_downstairs  W_Upstairs\n",
      "Laying           537        0         0        0                0           0\n",
      "Sitting            0      413         1        0                0           3\n",
      "Standing           0        6       464        2                0           6\n",
      "Walking            0        0         0      427               16           0\n",
      "W_downstairs       0        0         0       62              516           0\n",
      "W_Upstairs         0        1         6        0                0         487\n",
      "\n",
      "Classification Analysis:\n",
      "                    precision    recall  f1-score   support\n",
      "\n",
      "            Laying       0.99      0.98      0.98       496\n",
      "           Sitting       0.97      0.99      0.98       471\n",
      "          Standing       0.99      0.98      0.99       420\n",
      "           Walking       0.96      0.87      0.91       491\n",
      "Walking_downstairs       0.89      0.97      0.93       532\n",
      "  Walking_Upstairs       1.00      1.00      1.00       537\n",
      "\n",
      "         micro avg       0.97      0.97      0.97      2947\n",
      "         macro avg       0.97      0.96      0.97      2947\n",
      "      weighted avg       0.97      0.97      0.96      2947\n",
      "\n"
     ]
    }
   ],
   "source": [
    "#Logistic regression\n",
    "\n",
    "import warnings\n",
    "warnings.filterwarnings('ignore')\n",
    "from sklearn.metrics import classification_report\n",
    "from sklearn.model_selection import GridSearchCV\n",
    "\n",
    "#                                                       ****** Training part  *********\n",
    "logistic = linear_model.LogisticRegression()\n",
    "logistic.fit(x_train, y_train)\n",
    "train_accuracy = logistic.score(x_train, y_train)\n",
    "\n",
    "\n",
    "#                                             ********  Validation and Hyperparameter tuning  *********                                  \n",
    "C = [0.001, 0.1,0.5, 0.9, 1, 10]\n",
    "penalty = ['l1', 'l2']\n",
    "hyper = dict(penalty=penalty, C=C)\n",
    "\n",
    "  #5-fold cross validation and tuning\n",
    "logistic_validated = GridSearchCV(estimator=logistic, param_grid=hyper, cv =5) \n",
    "\n",
    "validation_result = logistic_validated.fit(x_train, y_train)\n",
    "\n",
    "print(\"Validation Accuracy:\", validation_result.best_score_*100)\n",
    "print('Best C:', validation_result.best_estimator_.get_params()['C'])\n",
    "print('Best Penalty:', validation_result.best_estimator_.get_params()['penalty'])\n",
    "\n",
    "\n",
    "#                                              **********       Testing     ************\n",
    "prediction_result = validation_result.predict(x_test)\n",
    "print(\"Testing Accuracy:\", accuracy_score(y_test, prediction_result)*100)\n",
    "print()\n",
    "\n",
    "\n",
    "#                                              ***********   Confusion Matrix   **********\n",
    "predicted_y = list(map(str, prediction_result))\n",
    "y_test_data = np.array(y_test.T).ravel()\n",
    "original_y = list(map(str,y_test_data))\n",
    "pred_y1 = np.array(pd.Series(predicted_y).map(dickey))\n",
    "y_test_key = np.array(pd.Series(original_y).map(dickey))\n",
    "\n",
    "array = confusion_matrix(pred_y1, y_test_key)\n",
    "logistic_cmatrix = pd.DataFrame(array, range(6),range(6))\n",
    "logistic_cmatrix.columns = [\"Laying\", \"Sitting\",\"Standing\",\"Walking\",\"Walk_downstairs\",\"W_Upstairs\"]\n",
    "logistic_cmatrix.index = [\"Laying\", \"Sitting\",\"Standing\",\"Walking\",\"W_downstairs\",\"W_Upstairs\"]\n",
    "\n",
    "#                                              ***********     Confusion Matrix table *******\n",
    "print(logistic_cmatrix)\n",
    "print()\n",
    "activities = [\"Laying\", \"Sitting\",\"Standing\",\"Walking\",\"Walking_downstairs\",\"Walking_Upstairs\"]\n",
    "classification_report(y_test, prediction_result)\n",
    "print(\"Classification Analysis:\")\n",
    "print(classification_report(y_test, prediction_result, target_names=activities))\n"
   ]
  },
  {
   "cell_type": "markdown",
   "metadata": {},
   "source": [
    "# "
   ]
  },
  {
   "cell_type": "markdown",
   "metadata": {},
   "source": [
    "# SVM"
   ]
  },
  {
   "cell_type": "code",
   "execution_count": 5,
   "metadata": {},
   "outputs": [],
   "source": [
    "x_train = x_train_common\n",
    "x_test = x_test_common\n",
    "y_train = y_train_common\n",
    "y_test = y_test_common"
   ]
  },
  {
   "cell_type": "code",
   "execution_count": 6,
   "metadata": {},
   "outputs": [
    {
     "name": "stdout",
     "output_type": "stream",
     "text": [
      "Validation Accuracy: 84.52121871599564\n",
      "Best C: 1\n",
      "Best Gamma: 0.01\n",
      "Testing Accuracy: 86.08754665761792\n",
      "\n",
      "              Laying  Sitting  Standing  Walking  Walk_downstairs  W_Upstairs\n",
      "Laying           499        0         0        1                0           0\n",
      "Sitting           38      392        96       24               24         131\n",
      "Standing           0       26       368        0                0           0\n",
      "Walking            0        0         0      434               29           0\n",
      "W_downstairs       0        0         0       32              479           0\n",
      "W_Upstairs         0        2         7        0                0         365\n",
      "\n",
      "Classification Analysis:\n",
      "                    precision    recall  f1-score   support\n",
      "\n",
      "            Laying       0.98      0.74      0.84       496\n",
      "           Sitting       0.93      0.78      0.85       471\n",
      "          Standing       0.56      0.93      0.70       420\n",
      "           Walking       0.94      0.88      0.91       491\n",
      "Walking_downstairs       0.94      0.90      0.92       532\n",
      "  Walking_Upstairs       1.00      0.93      0.96       537\n",
      "\n",
      "         micro avg       0.86      0.86      0.86      2947\n",
      "         macro avg       0.89      0.86      0.86      2947\n",
      "      weighted avg       0.90      0.86      0.87      2947\n",
      "\n"
     ]
    }
   ],
   "source": [
    "#Support Vector Classification\n",
    "\n",
    "import warnings\n",
    "warnings.filterwarnings('ignore')\n",
    "from sklearn.metrics import classification_report\n",
    "from sklearn.model_selection import GridSearchCV\n",
    "from sklearn.svm import SVC\n",
    "\n",
    "#                                                       ****** Training part  *********\n",
    "svc = SVC(kernel='rbf')\n",
    "svc.fit(x_train, y_train) \n",
    "train_accuracy = svc.score(x_train, y_train)\n",
    "\n",
    "\n",
    "#                                             ********  Validation and Hyperparameter tuning  *********           \n",
    "C = [0.01, 0.1, 1]#[0.01, 0.1, 1, 10]\n",
    "gammas = [0.01, 0.1]\n",
    "\n",
    "param_grid = {'C': C, 'gamma' : gammas }\n",
    "svc_validated = GridSearchCV(svc, param_grid, cv=5)\n",
    "validation_result = svc_validated.fit(x_train, y_train)\n",
    "\n",
    "print(\"Validation Accuracy:\", validation_result.best_score_*100)\n",
    "print('Best C:', validation_result.best_estimator_.get_params()['C'])\n",
    "print('Best Gamma:', validation_result.best_estimator_.get_params()['gamma'])\n",
    "\n",
    "\n",
    "#                                              **********       Testing     ************\n",
    "prediction_result = validation_result.predict(x_test)\n",
    "print(\"Testing Accuracy:\", accuracy_score(y_test, prediction_result)*100)\n",
    "print()\n",
    "\n",
    "\n",
    "#                                              ***********   Confusion Matrix   **********\n",
    "predicted_y = list(map(str, prediction_result))\n",
    "y_test_data = np.array(y_test.T).ravel()\n",
    "original_y = list(map(str,y_test_data))\n",
    "pred_y1 = np.array(pd.Series(predicted_y).map(dickey))\n",
    "y_test_key = np.array(pd.Series(original_y).map(dickey))\n",
    "\n",
    "array = confusion_matrix(pred_y1, y_test_key)\n",
    "logistic_cmatrix = pd.DataFrame(array, range(6),range(6))\n",
    "logistic_cmatrix.columns = [\"Laying\", \"Sitting\",\"Standing\",\"Walking\",\"Walk_downstairs\",\"W_Upstairs\"]\n",
    "logistic_cmatrix.index = [\"Laying\", \"Sitting\",\"Standing\",\"Walking\",\"W_downstairs\",\"W_Upstairs\"]\n",
    "\n",
    "#                                              ***********     Confusion Matrix table *******\n",
    "print(logistic_cmatrix)\n",
    "print()\n",
    "activities = [\"Laying\", \"Sitting\",\"Standing\",\"Walking\",\"Walking_downstairs\",\"Walking_Upstairs\"]\n",
    "classification_report(y_test, prediction_result)\n",
    "print(\"Classification Analysis:\")\n",
    "print(classification_report(y_test, prediction_result, target_names=activities))\n"
   ]
  },
  {
   "cell_type": "code",
   "execution_count": null,
   "metadata": {},
   "outputs": [],
   "source": []
  },
  {
   "cell_type": "markdown",
   "metadata": {},
   "source": [
    "# Neural Nets "
   ]
  },
  {
   "cell_type": "code",
   "execution_count": 7,
   "metadata": {},
   "outputs": [],
   "source": [
    "x_train = x_train_common\n",
    "x_test = x_test_common\n",
    "y_train = y_train_common\n",
    "y_test = y_test_common"
   ]
  },
  {
   "cell_type": "code",
   "execution_count": 8,
   "metadata": {},
   "outputs": [],
   "source": [
    "#Neural nets\n",
    "import warnings\n",
    "warnings.filterwarnings('ignore')\n",
    "\n",
    "from sklearn.neural_network import MLPClassifier\n",
    "\n",
    "#                                                       ****** Training part  *********\n",
    "neural_net = MLPClassifier(alpha=5,hidden_layer_sizes=(10, 6), random_state=1,solver='adam')\n",
    "neural_net.fit(x_train, y_train) \n",
    "#train_accuracy = neural_net.score(x_train, y_train)\n",
    "\n",
    "\n",
    "#                                             ********  Validation and Hyperparameter tuning  *********    \n",
    "hyper = {'max_iter': [10,50,100], 'hidden_layer_sizes':np.arange(5, 10), 'alpha': [0.001, 0.01, 0.1]}  # 'alpha': 10.0 ** -np.arange(1, 7), '\n",
    "\n",
    "nn_validated = GridSearchCV(neural_net, param_grid=hyper, cv=5)\n",
    "validation_result = nn_validated.fit(x_train, y_train)\n",
    "\n"
   ]
  },
  {
   "cell_type": "code",
   "execution_count": 9,
   "metadata": {},
   "outputs": [
    {
     "name": "stdout",
     "output_type": "stream",
     "text": [
      "Validation Accuracy: 92.88628944504896\n",
      "Best Values for Hypeparameters:\n",
      "{'alpha': 0.001, 'hidden_layer_sizes': 9, 'max_iter': 100}\n",
      "Testing Accuracy: 93.92602646759416\n",
      "\n",
      "              Laying  Sitting  Standing  Walking  Walk_downstairs  W_Upstairs\n",
      "Laying           520        0         0        2                0           0\n",
      "Sitting            0      398         6        0                0          11\n",
      "Standing           0       21       445        1                0          11\n",
      "Walking            2        0         0      465               66           0\n",
      "W_downstairs      15        0         0       23              466           0\n",
      "W_Upstairs         0        1        20        0                0         474\n",
      "\n",
      "Classification Analysis:\n",
      "                    precision    recall  f1-score   support\n",
      "\n",
      "            Laying       0.96      0.96      0.96       496\n",
      "           Sitting       0.93      0.94      0.94       471\n",
      "          Standing       0.96      0.95      0.95       420\n",
      "           Walking       0.87      0.95      0.91       491\n",
      "Walking_downstairs       0.92      0.88      0.90       532\n",
      "  Walking_Upstairs       1.00      0.97      0.98       537\n",
      "\n",
      "         micro avg       0.94      0.94      0.94      2947\n",
      "         macro avg       0.94      0.94      0.94      2947\n",
      "      weighted avg       0.94      0.94      0.94      2947\n",
      "\n"
     ]
    }
   ],
   "source": [
    "print(\"Validation Accuracy:\", validation_result.best_score_*100)\n",
    "\n",
    "print(\"Best Values for Hypeparameters:\")\n",
    "print(validation_result.best_params_)\n",
    "\n",
    "\n",
    "#                                              **********       Testing     ************\n",
    "prediction_result = validation_result.predict(x_test)\n",
    "print(\"Testing Accuracy:\", accuracy_score(y_test, prediction_result)*100)\n",
    "print()\n",
    "\n",
    "\n",
    "#                                              ***********   Confusion Matrix   **********\n",
    "predicted_y = list(map(str, prediction_result))\n",
    "y_test_data = np.array(y_test.T).ravel()\n",
    "original_y = list(map(str,y_test_data))\n",
    "pred_y1 = np.array(pd.Series(predicted_y).map(dickey))\n",
    "y_test_key = np.array(pd.Series(original_y).map(dickey))\n",
    "\n",
    "array = confusion_matrix(pred_y1, y_test_key)\n",
    "logistic_cmatrix = pd.DataFrame(array, range(6),range(6))\n",
    "logistic_cmatrix.columns = [\"Laying\", \"Sitting\",\"Standing\",\"Walking\",\"Walk_downstairs\",\"W_Upstairs\"]\n",
    "logistic_cmatrix.index = [\"Laying\", \"Sitting\",\"Standing\",\"Walking\",\"W_downstairs\",\"W_Upstairs\"]\n",
    "\n",
    "#                                              ***********     Confusion Matrix table *******\n",
    "print(logistic_cmatrix)\n",
    "print()\n",
    "activities = [\"Laying\", \"Sitting\",\"Standing\",\"Walking\",\"Walking_downstairs\",\"Walking_Upstairs\"]\n",
    "classification_report(y_test, prediction_result)\n",
    "print(\"Classification Analysis:\")\n",
    "print(classification_report(y_test, prediction_result, target_names=activities))\n"
   ]
  },
  {
   "cell_type": "code",
   "execution_count": null,
   "metadata": {},
   "outputs": [],
   "source": []
  },
  {
   "cell_type": "code",
   "execution_count": null,
   "metadata": {},
   "outputs": [],
   "source": []
  }
 ],
 "metadata": {
  "kernelspec": {
   "display_name": "Python 3",
   "language": "python",
   "name": "python3"
  },
  "language_info": {
   "codemirror_mode": {
    "name": "ipython",
    "version": 3
   },
   "file_extension": ".py",
   "mimetype": "text/x-python",
   "name": "python",
   "nbconvert_exporter": "python",
   "pygments_lexer": "ipython3",
   "version": "3.6.8"
  }
 },
 "nbformat": 4,
 "nbformat_minor": 2
}
